{
 "cells": [
  {
   "cell_type": "markdown",
   "metadata": {},
   "source": [
    "# 基于NLP+STEAM的语文项目式学习应用研究"
   ]
  },
  {
   "cell_type": "markdown",
   "metadata": {},
   "source": [
    "参考链接：https://zhuanlan.zhihu.com/p/265100275"
   ]
  },
  {
   "cell_type": "code",
   "execution_count": 14,
   "metadata": {},
   "outputs": [],
   "source": [
    "import pandas as pd\n",
    "import jieba\n",
    "import jieba.posseg as pseg\n",
    "from imageio import imread\n",
    "from wordcloud import WordCloud, ImageColorGenerator\n",
    "import matplotlib.pyplot as plt"
   ]
  },
  {
   "cell_type": "code",
   "execution_count": 15,
   "metadata": {},
   "outputs": [
    {
     "name": "stdout",
     "output_type": "stream",
     "text": [
      "Requirement already satisfied: jieba in c:\\programdata\\anaconda3\\lib\\site-packages (0.42.1)\n",
      "Note: you may need to restart the kernel to use updated packages.\n"
     ]
    }
   ],
   "source": [
    "pip install jieba"
   ]
  },
  {
   "cell_type": "code",
   "execution_count": 16,
   "metadata": {},
   "outputs": [
    {
     "name": "stdout",
     "output_type": "stream",
     "text": [
      "Requirement already satisfied: wordcloud in c:\\programdata\\anaconda3\\lib\\site-packages (1.8.1)\n",
      "Requirement already satisfied: matplotlib in c:\\programdata\\anaconda3\\lib\\site-packages (from wordcloud) (3.3.2)\n",
      "Requirement already satisfied: pillow in c:\\programdata\\anaconda3\\lib\\site-packages (from wordcloud) (8.0.1)\n",
      "Requirement already satisfied: numpy>=1.6.1 in c:\\programdata\\anaconda3\\lib\\site-packages (from wordcloud) (1.19.2)\n",
      "Requirement already satisfied: cycler>=0.10 in c:\\programdata\\anaconda3\\lib\\site-packages (from matplotlib->wordcloud) (0.10.0)\n",
      "Requirement already satisfied: python-dateutil>=2.1 in c:\\programdata\\anaconda3\\lib\\site-packages (from matplotlib->wordcloud) (2.8.1)\n",
      "Requirement already satisfied: certifi>=2020.06.20 in c:\\programdata\\anaconda3\\lib\\site-packages (from matplotlib->wordcloud) (2020.6.20)\n",
      "Requirement already satisfied: pyparsing!=2.0.4,!=2.1.2,!=2.1.6,>=2.0.3 in c:\\programdata\\anaconda3\\lib\\site-packages (from matplotlib->wordcloud) (2.4.7)\n",
      "Requirement already satisfied: kiwisolver>=1.0.1 in c:\\programdata\\anaconda3\\lib\\site-packages (from matplotlib->wordcloud) (1.3.0)\n",
      "Requirement already satisfied: six in c:\\programdata\\anaconda3\\lib\\site-packages (from cycler>=0.10->matplotlib->wordcloud) (1.15.0)\n",
      "Note: you may need to restart the kernel to use updated packages.\n"
     ]
    }
   ],
   "source": [
    "pip install wordcloud"
   ]
  },
  {
   "cell_type": "code",
   "execution_count": 17,
   "metadata": {},
   "outputs": [
    {
     "name": "stdout",
     "output_type": "stream",
     "text": [
      "C:\\Users\\admin\\Desktop\\211019项目式学习\\经整理后的数据.csv\n"
     ]
    }
   ],
   "source": [
    "import os\n",
    "from os.path import join\n",
    "# 获取项目路径\n",
    "current_folder_path = os.path.dirname(os.path.realpath('__file__'))\n",
    "# file要加引号 https://www.cnblogs.com/yifanrensheng/p/13979063.html\n",
    "# 获取数据存放目录路径\n",
    "data_path = join(current_folder_path, '经整理后的数据.csv')\n",
    "print(data_path)\n"
   ]
  },
  {
   "cell_type": "code",
   "execution_count": 18,
   "metadata": {},
   "outputs": [
    {
     "ename": "UnicodeDecodeError",
     "evalue": "'gbk' codec can't decode byte 0x8a in position 2: illegal multibyte sequence",
     "output_type": "error",
     "traceback": [
      "\u001b[1;31m---------------------------------------------------------------------------\u001b[0m",
      "\u001b[1;31mUnicodeDecodeError\u001b[0m                        Traceback (most recent call last)",
      "\u001b[1;32m<ipython-input-18-41a65c09eaac>\u001b[0m in \u001b[0;36m<module>\u001b[1;34m\u001b[0m\n\u001b[0;32m      1\u001b[0m \u001b[1;31m# 过滤词长，过滤停用词，只保留中文\u001b[0m\u001b[1;33m\u001b[0m\u001b[1;33m\u001b[0m\u001b[1;33m\u001b[0m\u001b[0m\n\u001b[1;32m----> 2\u001b[1;33m \u001b[0mSTOP_WORDS\u001b[0m \u001b[1;33m=\u001b[0m \u001b[0mset\u001b[0m\u001b[1;33m(\u001b[0m\u001b[1;33m[\u001b[0m\u001b[0mw\u001b[0m\u001b[1;33m.\u001b[0m\u001b[0mstrip\u001b[0m\u001b[1;33m(\u001b[0m\u001b[1;33m)\u001b[0m \u001b[1;32mfor\u001b[0m \u001b[0mw\u001b[0m \u001b[1;32min\u001b[0m \u001b[0mopen\u001b[0m\u001b[1;33m(\u001b[0m\u001b[1;34m\"stopwords.txt\"\u001b[0m\u001b[1;33m)\u001b[0m\u001b[1;33m.\u001b[0m\u001b[0mreadlines\u001b[0m\u001b[1;33m(\u001b[0m\u001b[1;33m)\u001b[0m\u001b[1;33m]\u001b[0m\u001b[1;33m)\u001b[0m\u001b[1;33m\u001b[0m\u001b[1;33m\u001b[0m\u001b[0m\n\u001b[0m\u001b[0;32m      3\u001b[0m \u001b[1;33m\u001b[0m\u001b[0m\n\u001b[0;32m      4\u001b[0m \u001b[1;32mdef\u001b[0m \u001b[0mis_fine_word\u001b[0m\u001b[1;33m(\u001b[0m\u001b[0mword\u001b[0m\u001b[1;33m,\u001b[0m \u001b[0mmin_length\u001b[0m\u001b[1;33m=\u001b[0m\u001b[1;36m2\u001b[0m\u001b[1;33m)\u001b[0m\u001b[1;33m:\u001b[0m\u001b[1;33m\u001b[0m\u001b[1;33m\u001b[0m\u001b[0m\n\u001b[0;32m      5\u001b[0m     \u001b[1;32mif\u001b[0m \u001b[0mlen\u001b[0m\u001b[1;33m(\u001b[0m\u001b[0mword\u001b[0m\u001b[1;33m)\u001b[0m \u001b[1;33m>=\u001b[0m \u001b[0mmin_length\u001b[0m \u001b[1;32mand\u001b[0m \u001b[0mword\u001b[0m \u001b[1;32mnot\u001b[0m \u001b[1;32min\u001b[0m \u001b[0mSTOP_WORDS\u001b[0m\u001b[1;33m:\u001b[0m\u001b[1;33m\u001b[0m\u001b[1;33m\u001b[0m\u001b[0m\n",
      "\u001b[1;31mUnicodeDecodeError\u001b[0m: 'gbk' codec can't decode byte 0x8a in position 2: illegal multibyte sequence"
     ]
    }
   ],
   "source": [
    "# 过滤词长，过滤停用词，只保留中文\n",
    "STOP_WORDS = set([w.strip() for w in open(\"stopwords.txt\").readlines()])\n",
    "\n",
    "def is_fine_word(word, min_length=2):\n",
    "    if len(word) >= min_length and word not in STOP_WORDS:\n",
    "        return True\n",
    "    else:\n",
    "        return False\n",
    "\n",
    "def single_word(line):\n",
    "    seg = jieba.posseg.cut(line)\n",
    "    res = []\n",
    "    for i in seg:\n",
    "        if i.flag in [\"a\", \"v\", \"x\", \"n\", \"an\", \"vn\", \"nz\", \"nt\", \"nr\"] and is_fine_word(i.word):\n",
    "            res.append(i.word)\n",
    "    return res\n",
    "\n",
    "#统计频率\n",
    "def count_freq(df):\n",
    "    wordlist=[]\n",
    "    for i in df.cut:\n",
    "        for j in i:\n",
    "            wordlist.append(j)\n",
    "    # print(wordlist)\n",
    "    cfreq=pd.Series(wordlist).value_counts()\n",
    "    print(cfreq)\n",
    "    # cfreq=cfreq.to_dict()\n",
    "    return cfreq\n",
    "\n",
    "def draw_cloud(mask_path, word_freq, save_path):\n",
    "    mask = imread(mask_path)\n",
    "    wc = WordCloud(font_path='kaiti.TTF',  # 设置字体\n",
    "                   background_color=\"white\",  # 背景颜色\n",
    "                   max_words=600,  # 词云显示的最大词数\n",
    "                   mask=mask,  # 设置背景图片\n",
    "                   scale=2,\n",
    "                   max_font_size=85,  # 字体最大值\n",
    "                   # random_state=42,\n",
    "                   )\n",
    "    wc.generate_from_frequencies(word_freq)\n",
    "\n",
    "    # show\n",
    "    image_colors = ImageColorGenerator(mask)\n",
    "    plt.figure()\n",
    "    plt.imshow(wc.recolor(color_func=image_colors), interpolation='bilinear')\n",
    "    plt.axis(\"off\")\n",
    "    wc.to_file(save_path)\n",
    "    plt.show()\n",
    "    return wc"
   ]
  },
  {
   "cell_type": "code",
   "execution_count": null,
   "metadata": {},
   "outputs": [],
   "source": [
    "def DataAnalysis():\n",
    "    df = pd.read_csv(data_path, 'r', delimiter=',', error_bad_lines=False)\n",
    "    df.drop(columns=['Unnamed: 0'], axis=1, inplace=True)\n",
    "    df_content=df.copy()[:]\n",
    "    df_content['cut'] = df_content['content'].map(lambda x:single_word(str(x)))\n",
    "    \"\"\"wordcloud \n",
    "    1.统计词频；\n",
    "    2.画图\n",
    "    \"\"\"\n",
    "    cfreq=count_freq(df_content)#1.统计词频；\n",
    "    cfreq=cfreq.to_dict()\n",
    "    with open(\"cfreq.txt\",'w',encoding='utf-8') as f:\n",
    "        for k,v in cfreq.items():\n",
    "            f.write(str(k)+ ' '+str(v)+'\\n')\n",
    "    f.close()\n",
    "\n",
    "    file1 = join(current_folder_path,  '所有年级词云_Student.png')\n",
    "    # tools.draw_cloud(\"data/caiyun.jpeg\", cfreq, file1)  # 云朵\n",
    "    draw_cloud(\"dlam.jpeg\", cfreq, file1)  # 哆啦A梦\n",
    "\n",
    "    # tools.draw_cloud(\"data/img.png\",cfreq,\"output/chinaw.png\") #彩云\n",
    "\n",
    "\n",
    "DataAnalysis()"
   ]
  },
  {
   "cell_type": "code",
   "execution_count": null,
   "metadata": {},
   "outputs": [],
   "source": []
  }
 ],
 "metadata": {
  "kernelspec": {
   "display_name": "Python 3",
   "language": "python",
   "name": "python3"
  },
  "language_info": {
   "codemirror_mode": {
    "name": "ipython",
    "version": 3
   },
   "file_extension": ".py",
   "mimetype": "text/x-python",
   "name": "python",
   "nbconvert_exporter": "python",
   "pygments_lexer": "ipython3",
   "version": "3.8.5"
  }
 },
 "nbformat": 4,
 "nbformat_minor": 5
}
